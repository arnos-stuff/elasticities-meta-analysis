{
 "cells": [
  {
   "cell_type": "code",
   "execution_count": 1,
   "metadata": {},
   "outputs": [],
   "source": [
    "import pandas as pd"
   ]
  },
  {
   "cell_type": "code",
   "execution_count": 2,
   "metadata": {},
   "outputs": [],
   "source": [
    "df = pd.read_csv('elasticities.csv')"
   ]
  },
  {
   "cell_type": "code",
   "execution_count": 3,
   "metadata": {},
   "outputs": [],
   "source": [
    "    \n",
    "def parse_econ_latex_table(df):\n",
    "    dfstd = df[df.applymap(lambda x: \"(\" in x)].dropna().copy().reset_index(drop=True)\n",
    "    dfstd = dfstd.applymap(lambda x: float(x.replace(\"(\", \"\").replace(\")\", \"\")) )\n",
    "    dfmean = df[df.applymap(lambda x: \"(\" not in x)].dropna().copy().reset_index(drop=True)\n",
    "    records = []\n",
    "    for (idx, row), (jdx, srow) in zip(dfmean.iterrows(), dfstd.iterrows()):\n",
    "        for col in dfmean.columns:\n",
    "            records += [{\n",
    "            'mean': row[col].replace(\"^{* * *}\", \"\").replace(\"^{* *}\", \"\").replace(\"^*\", \"\"),\n",
    "            'std': srow[col],\n",
    "            'experiment': col.split(\"-\")[-1],\n",
    "            'significance' : 0.1 if '^*' in row[col] else 0.05 if '^{* *}' in row[col] else 0.01 if '^{* * *}' in row[col] else pd.np.nan,\n",
    "            'row': idx,\n",
    "            }]\n",
    "    dfv = pd.DataFrame(records)\n",
    "    techniques = [\n",
    "        {\"name\": \"IV: (lagged) mechanical tax rate changes\", \"row\": 0},\n",
    "        {\"name\":\"IV-other\", \"row\":1},\n",
    "        {\"name\":\"DID-IV\", \"row\":2},\n",
    "        {\"name\":\"DID-classic\", \"row\":3},\n",
    "        {\"name\":\"Income Control (none)\", \"row\":4},\n",
    "        {\"name\":\"Income Control (Gruber Saez Spline)\", \"row\":5},\n",
    "        {\"name\":\"Income Control (Kopczuk)\", \"row\":6},\n",
    "        {\"name\":\"Income Control (other)\", \"row\":7},\n",
    "        {\"name\":\"Difference Length (1 year)\", \"row\":8},\n",
    "        {\"name\":\"Difference Length (2 years)\", \"row\":9},\n",
    "        {\"name\":\"Difference Length (4+ years)\", \"row\":10},\n",
    "    ]\n",
    "\n",
    "    dft = pd.DataFrame(techniques)\n",
    "    experiments = [\n",
    "        {\"experiment\": \"1\", \"control\": \"No Control\"},\n",
    "        {\"experiment\": \"2\", \"control\": \"Control for estimation technique\"},\n",
    "        {\"experiment\": \"3\", \"control\": \"Control for estimation technique and sample restrictions\"},\n",
    "        {\"experiment\": \"4\", \"control\": \"Control for estimation technique, sample restrictions, estimation decade\"},\n",
    "        {\"experiment\": \"5\", \"control\": \"Control for estimation technique, sample restrictions, publication decade\"},\n",
    "        {\"experiment\": \"6\", \"control\": \"Control for all variables\"},\n",
    "    ]\n",
    "\n",
    "    dfe = pd.DataFrame(experiments)\n",
    "    dfr = pd.merge(dfv, dft, on=\"row\")\n",
    "    dfr = pd.merge(dfr, dfe, on=\"experiment\")\n",
    "    return dfr"
   ]
  },
  {
   "cell_type": "code",
   "execution_count": 4,
   "metadata": {},
   "outputs": [
    {
     "name": "stderr",
     "output_type": "stream",
     "text": [
      "C:\\Users\\arnov\\AppData\\Local\\Temp\\ipykernel_26632\\3234544059.py:12: FutureWarning: The pandas.np module is deprecated and will be removed from pandas in a future version. Import numpy directly instead.\n",
      "  'significance' : 0.1 if '^*' in row[col] else 0.05 if '^{* *}' in row[col] else 0.01 if '^{* * *}' in row[col] else pd.np.nan,\n"
     ]
    }
   ],
   "source": [
    "dfe = parse_econ_latex_table(df)"
   ]
  },
  {
   "cell_type": "code",
   "execution_count": 5,
   "metadata": {},
   "outputs": [],
   "source": [
    "dfd = pd.read_csv('elasticities-after-deductions.csv')"
   ]
  },
  {
   "cell_type": "code",
   "execution_count": 6,
   "metadata": {},
   "outputs": [
    {
     "name": "stderr",
     "output_type": "stream",
     "text": [
      "C:\\Users\\arnov\\AppData\\Local\\Temp\\ipykernel_26632\\3234544059.py:12: FutureWarning: The pandas.np module is deprecated and will be removed from pandas in a future version. Import numpy directly instead.\n",
      "  'significance' : 0.1 if '^*' in row[col] else 0.05 if '^{* *}' in row[col] else 0.01 if '^{* * *}' in row[col] else pd.np.nan,\n"
     ]
    }
   ],
   "source": [
    "dfd = parse_econ_latex_table(dfd)"
   ]
  },
  {
   "cell_type": "code",
   "execution_count": 7,
   "metadata": {},
   "outputs": [],
   "source": [
    "dfd[\"deductions\"] = \"After\"\n",
    "dfe[\"deductions\"] = \"Before\""
   ]
  },
  {
   "cell_type": "code",
   "execution_count": 8,
   "metadata": {},
   "outputs": [],
   "source": [
    "dfout = pd.concat([dfe, dfd], axis=0)"
   ]
  },
  {
   "cell_type": "code",
   "execution_count": 9,
   "metadata": {},
   "outputs": [],
   "source": [
    "dfout.to_csv('elasticities-parsed.csv', index=False)\n",
    "dfout.to_excel('elasticities-parsed.xlsx', index=False)\n",
    "dfout.to_json('elasticities-parsed.json', orient='records')\n",
    "dfout.to_parquet('elasticities-parsed.parquet')"
   ]
  }
 ],
 "metadata": {
  "kernelspec": {
   "display_name": "Python 3",
   "language": "python",
   "name": "python3"
  },
  "language_info": {
   "codemirror_mode": {
    "name": "ipython",
    "version": 3
   },
   "file_extension": ".py",
   "mimetype": "text/x-python",
   "name": "python",
   "nbconvert_exporter": "python",
   "pygments_lexer": "ipython3",
   "version": "3.9.13"
  },
  "orig_nbformat": 4
 },
 "nbformat": 4,
 "nbformat_minor": 2
}
